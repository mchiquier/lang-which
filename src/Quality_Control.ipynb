{
  "nbformat": 4,
  "nbformat_minor": 0,
  "metadata": {
    "colab": {
      "name": "Quality Control.ipynb",
      "version": "0.3.2",
      "provenance": [],
      "collapsed_sections": []
    },
    "kernelspec": {
      "name": "python3",
      "display_name": "Python 3"
    }
  },
  "cells": [
    {
      "metadata": {
        "id": "nkjZfChgUkKn",
        "colab_type": "code",
        "colab": {}
      },
      "cell_type": "code",
      "source": [
        "import pandas as pd\n",
        "import numpy as np"
      ],
      "execution_count": 0,
      "outputs": []
    },
    {
      "metadata": {
        "id": "QG3WPi9hYnRr",
        "colab_type": "code",
        "colab": {}
      },
      "cell_type": "code",
      "source": [
        "def main():\n",
        "    pass1 = pd.read_csv('nets213DummyDataFinalCSV1.csv')\n",
        "    number_words_per_hit_firstpass = 1"
      ],
      "execution_count": 0,
      "outputs": []
    },
    {
      "metadata": {
        "id": "bEbv9toWVbRx",
        "colab_type": "code",
        "colab": {}
      },
      "cell_type": "code",
      "source": [
        "def get_good_urls1(pass1):\n",
        "  number_words_per_hit_firstpass = 1\n",
        "  list_of_urls = []\n",
        "  chosen = pass1.groupby(['chosen','WorkerId'])[\"WorkerId\"].count().reset_index(name=\"count\")\n",
        "  good_workers= chosen[chosen['count'] == 1]['WorkerId'].tolist()\n",
        "   \n",
        "  for i in range(number_words_per_hit_firstpass):\n",
        "    first = pass1['control1_workersChoice'] == pass1['control1_correctAnswer']\n",
        "    second = pass1['control2_workersChoice'] == pass1['control2_correctAnswer']\n",
        "    \n",
        "    output = pass1[first & second]\n",
        "    \n",
        "    output= output[output['WorkerId'].isin(good_workers)]\n",
        "    \n",
        "    list_of_urls = list_of_urls + output['url' + str(i+1)].tolist()\n",
        "    return list_of_urls\n",
        "  "
      ],
      "execution_count": 0,
      "outputs": []
    },
    {
      "metadata": {
        "id": "NdTlSaCsZWg7",
        "colab_type": "code",
        "colab": {
          "base_uri": "https://localhost:8080/",
          "height": 34
        },
        "outputId": "591e102a-58d3-49d0-f3dd-7408fb2675db"
      },
      "cell_type": "code",
      "source": [
        "pass1 = pd.read_csv('nets213DummyDataFinalCSV1.csv')\n",
        "get_good_urls1(pass1)"
      ],
      "execution_count": 5,
      "outputs": [
        {
          "output_type": "execute_result",
          "data": {
            "text/plain": [
              "['vocaroo1.com']"
            ]
          },
          "metadata": {
            "tags": []
          },
          "execution_count": 5
        }
      ]
    },
    {
      "metadata": {
        "id": "52382aQqZYea",
        "colab_type": "code",
        "colab": {}
      },
      "cell_type": "code",
      "source": [
        "def get_good_urls2(pass2):\n",
        "    number_words = 1\n",
        "    urls = []\n",
        "    #print(pass2['control_url_correct_answer'])\n",
        "    #print(pass2.loc[pass2.index[0], 'control_url_correct_answer'])\n",
        "    if not pass2.loc[pass2.index[0], 'control_url_correct_answer'] == pass2.loc[pass2.index[0], 'workers_choice']:\n",
        "        return urls\n",
        "    \n",
        "    for i in range(number_words):\n",
        "        if pass2.loc[pass2.index[0], 'choice' + str(i + 1)] == True:\n",
        "            urls.append(pass2.loc[pass2.index[0], 'url' + str(i + 1)])\n",
        "        \n",
        "    return urls"
      ],
      "execution_count": 0,
      "outputs": []
    },
    {
      "metadata": {
        "id": "LaCrDZtznCbl",
        "colab_type": "code",
        "colab": {
          "base_uri": "https://localhost:8080/",
          "height": 34
        },
        "outputId": "3cf12a5c-0f07-4e71-efea-c895dc31b993"
      },
      "cell_type": "code",
      "source": [
        "pass2 = pd.read_csv('nets213DummyDataFinalCSV2.csv')\n",
        "get_good_urls2(pass2)"
      ],
      "execution_count": 24,
      "outputs": [
        {
          "output_type": "execute_result",
          "data": {
            "text/plain": [
              "['vocaroo1.com']"
            ]
          },
          "metadata": {
            "tags": []
          },
          "execution_count": 24
        }
      ]
    },
    {
      "metadata": {
        "id": "AtlCm9EfzV_8",
        "colab_type": "code",
        "colab": {}
      },
      "cell_type": "code",
      "source": [
        "def get_good_pronounciations(pass3):\n",
        "    number_words = 1\n",
        "    pronounciations = []\n",
        "    \n",
        "    for i in range(number_words):\n",
        "        pronounciations.append(pass3.loc[pass3.index[0], 'pronounce' + str(i + 1)])\n",
        "        \n",
        "    return pronounciations"
      ],
      "execution_count": 0,
      "outputs": []
    },
    {
      "metadata": {
        "id": "2goUYg--zXv1",
        "colab_type": "code",
        "colab": {
          "base_uri": "https://localhost:8080/",
          "height": 34
        },
        "outputId": "cc0c4232-854e-447c-a849-e2f0f51f3925"
      },
      "cell_type": "code",
      "source": [
        "pass3 = pd.read_csv('nets213DummyDataFinalCSV3.csv')\n",
        "get_good_pronounciations(pass3)"
      ],
      "execution_count": 26,
      "outputs": [
        {
          "output_type": "execute_result",
          "data": {
            "text/plain": [
              "['cat']"
            ]
          },
          "metadata": {
            "tags": []
          },
          "execution_count": 26
        }
      ]
    }
  ]
}